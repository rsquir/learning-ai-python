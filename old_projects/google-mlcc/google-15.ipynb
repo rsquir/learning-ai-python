{
 "cells": [
  {
   "cell_type": "code",
   "execution_count": 1,
   "id": "9a3ee495",
   "metadata": {},
   "outputs": [],
   "source": [
    "from __future__ import absolute_import, division, print_function, unicode_literals"
   ]
  },
  {
   "cell_type": "code",
   "execution_count": 2,
   "id": "9824c5d2",
   "metadata": {},
   "outputs": [],
   "source": [
    "#@title Import relevant modules\n",
    "import numpy as np\n",
    "import pandas as pd\n",
    "import tensorflow as tf\n",
    "from tensorflow.keras import layers\n",
    "from matplotlib import pyplot as plt\n",
    "\n",
    "# The following lines adjust the granularity of reporting. \n",
    "pd.options.display.max_rows = 10\n",
    "pd.options.display.float_format = \"{:.1f}\".format\n",
    "\n",
    "# The following line improves formatting when ouputting NumPy arrays.\n",
    "np.set_printoptions(linewidth = 200)"
   ]
  },
  {
   "cell_type": "code",
   "execution_count": 3,
   "id": "4cb5b91c",
   "metadata": {},
   "outputs": [
    {
     "name": "stdout",
     "output_type": "stream",
     "text": [
      "Downloading data from https://storage.googleapis.com/tensorflow/tf-keras-datasets/mnist.npz\n",
      "11493376/11490434 [==============================] - 0s 0us/step\n"
     ]
    }
   ],
   "source": [
    "(x_train, y_train),(x_test, y_test) = tf.keras.datasets.mnist.load_data()"
   ]
  },
  {
   "cell_type": "code",
   "execution_count": 4,
   "id": "71e85973",
   "metadata": {},
   "outputs": [
    {
     "data": {
      "text/plain": [
       "array([[  0,   0,   0,   0,   0,   0,   0,   0,   0,   0,   0,   0,   0,   0,   0,   0,   0,   0,   0,   0,   0,   0,   0,   0,   0,   0,   0,   0],\n",
       "       [  0,   0,   0,   0,   0,   0,   0,   0,   0,   0,   0,   0,   0,   0,   0,   0,   0,   0,   0,   0,   0,   0,   0,   0,   0,   0,   0,   0],\n",
       "       [  0,   0,   0,   0,   0,   0,   0,   0,   0,   0,   0,   0,   0,   0,   0,   0,   0,   0,   0,   0,   0,   0,   0,   0,   0,   0,   0,   0],\n",
       "       [  0,   0,   0,   0,   0,   0,   0,   0,   0,   0,   0,   0,   0,   0,   0,   0,   0,   0,   0,   0,   0,   0,   0,   0,   0,   0,   0,   0],\n",
       "       [  0,   0,   0,   0,   0,   0,   0,   0,   0,   0,   0,   0,   0,   0,   0,   0,   0,   0,   0,   0,   0,   0,   0,   0,   0,   0,   0,   0],\n",
       "       [  0,   0,   0,   0,   0,   0,   0,   0,   0,   0,   0,   0,   0,   0,   0,   0,   0,   0,   0,   0,   0,   0,   0,   0,   0,   0,   0,   0],\n",
       "       [  0,   0,   0,   0,   0,   0,   0,   0, 127, 100, 156, 239, 224, 177, 213, 159,  70,  13,   0,   0,   0,   0,   0,   0,   0,   0,   0,   0],\n",
       "       [  0,   0,   0,   0,   0,   0,   0, 110, 250, 254, 254, 254, 254, 254, 254, 254, 254, 184,  10,   0,   0,   0,   0,   0,   0,   0,   0,   0],\n",
       "       [  0,   0,   0,   0,   0,   0,   0, 216, 254, 254, 254, 254, 254, 254, 254, 254, 254, 251,  54,   0,   0,   0,   0,   0,   0,   0,   0,   0],\n",
       "       [  0,   0,   0,   0,   0,   0,   0,   3, 131, 197,  68, 137, 101,  83,  41,  70, 221, 254, 108,   0,   0,   0,   0,   0,   0,   0,   0,   0],\n",
       "       [  0,   0,   0,   0,   0,   0,   0,   0,   0,   0,   0,   0,   0,   0,   0,   0,  58, 254, 216,  11,   0,   0,   0,   0,   0,   0,   0,   0],\n",
       "       [  0,   0,   0,   0,   0,   0,   0,   0,   0,   0,   0,   0,   0,   0,   0,   0, 110, 254, 254,  24,   0,   0,   0,   0,   0,   0,   0,   0],\n",
       "       [  0,   0,   0,   0,   0,   0,   0,   0,   0,   0,   0,   0,   0,   0,   4,  83, 247, 254, 192,  10,   0,   0,   0,   0,   0,   0,   0,   0],\n",
       "       [  0,   0,   0,   0,   0,   0,   0,   0,   0,   0,   0,   0,   0,  37, 124, 254, 254, 250,  47,   0,   0,   0,   0,   0,   0,   0,   0,   0],\n",
       "       [  0,   0,   0,   0,   0,   0,   0,   0,   0,   0,   0, 113, 178, 250, 254, 254, 254, 252, 178, 128,  50,   0,   0,   0,   0,   0,   0,   0],\n",
       "       [  0,   0,   0,   0,   0,   0,   0,   0,   0,   0,  69, 252, 254, 254, 254, 254, 254, 254, 254, 254, 153,   0,   0,   0,   0,   0,   0,   0],\n",
       "       [  0,   0,   0,   0,   0,   0,   0,   0,   0,   0, 141, 252, 254, 241, 241, 254, 247, 252, 254, 254, 153,   0,   0,   0,   0,   0,   0,   0],\n",
       "       [  0,   0,   0,   0,   0,   0,   0,   0,   0,   0,   0,  68,  82,   5,   5,  82,  37,  65, 167, 254, 190,   0,   0,   0,   0,   0,   0,   0],\n",
       "       [  0,   0,   0,   0,   0,   0,   0,   0,   0,   0,   0,   0,   0,   0,   0,   0,   0,   0, 162, 254, 153,   0,   0,   0,   0,   0,   0,   0],\n",
       "       [  0,   0,   0,   0,   0,   0,   0,   0,   0,   0,   0,   0,   0,   0,   0,   0,   0,   1, 172, 253,  75,   0,   0,   0,   0,   0,   0,   0],\n",
       "       [  0,   0,   0,   0,   0,   0,   0,   0,   0,   0,   0,   0,   0,   0,   0,   0,   0, 102, 254, 152,   0,   0,   0,   0,   0,   0,   0,   0],\n",
       "       [  0,   0,   0,   0,   0,   0,   0,   0,   0,   0,   0,   0,   0,   0,   0,   0,  38, 230, 216,  20,   0,   0,   0,   0,   0,   0,   0,   0],\n",
       "       [  0,   0,   0,   0,   0,   0,   0,   0,   0,   0,   0,   0,   0,   0,   1,  71, 222, 254, 142,   0,   0,   0,   0,   0,   0,   0,   0,   0],\n",
       "       [  0,   0,   0,   0,   0,   0,   0,   0,   0,   0,   0,   0,   0,   0,  66, 254, 254, 157,   0,   0,   0,   0,   0,   0,   0,   0,   0,   0],\n",
       "       [  0,   0,   0,   0,   0,   0,   0,   0,   4,  34,  34,  78, 161, 226, 249, 254, 154,   6,   0,   0,   0,   0,   0,   0,   0,   0,   0,   0],\n",
       "       [  0,   0,   0,   0,   0,   0,   0,  96, 184, 254, 254, 254, 254, 254, 249,  93,   5,   0,   0,   0,   0,   0,   0,   0,   0,   0,   0,   0],\n",
       "       [  0,   0,   0,   0,   0,   0,   0,   0,   0,   0,   0,   0,   0,   0,   0,   0,   0,   0,   0,   0,   0,   0,   0,   0,   0,   0,   0,   0],\n",
       "       [  0,   0,   0,   0,   0,   0,   0,   0,   0,   0,   0,   0,   0,   0,   0,   0,   0,   0,   0,   0,   0,   0,   0,   0,   0,   0,   0,   0]], dtype=uint8)"
      ]
     },
     "execution_count": 4,
     "metadata": {},
     "output_type": "execute_result"
    }
   ],
   "source": [
    "# Output example #2917 of the training set.\n",
    "x_train[2917]"
   ]
  },
  {
   "cell_type": "code",
   "execution_count": 5,
   "id": "04e0b40f",
   "metadata": {},
   "outputs": [
    {
     "data": {
      "text/plain": [
       "array([  0,   0,   0,   0,   0,   0,   0,   0,   0,   0,   0,   0,   0,   0,   0,   0,  58, 254, 216,  11,   0,   0,   0,   0,   0,   0,   0,   0], dtype=uint8)"
      ]
     },
     "execution_count": 5,
     "metadata": {},
     "output_type": "execute_result"
    }
   ],
   "source": [
    "# Output row #10 of example #2917.\n",
    "x_train[2917][10]"
   ]
  },
  {
   "cell_type": "code",
   "execution_count": 6,
   "id": "32846a11",
   "metadata": {},
   "outputs": [
    {
     "data": {
      "text/plain": [
       "58"
      ]
     },
     "execution_count": 6,
     "metadata": {},
     "output_type": "execute_result"
    }
   ],
   "source": [
    "# Output pixel #16 of row #10 of example #2900.\n",
    "x_train[2917][10][16]"
   ]
  },
  {
   "cell_type": "code",
   "execution_count": 7,
   "id": "4296e4bc",
   "metadata": {},
   "outputs": [
    {
     "name": "stdout",
     "output_type": "stream",
     "text": [
      "[0.         0.         0.         0.         0.         0.         0.         0.55294118 0.88627451 0.22352941 0.         0.         0.         0.         0.         0.         0.         0.\n",
      " 0.         0.         0.         0.         0.         0.         0.         0.         0.         0.        ]\n"
     ]
    }
   ],
   "source": [
    "#@title Double-click to see a solution to Task 1. \n",
    "\n",
    "x_train_normalized = x_train / 255.0\n",
    "x_test_normalized = x_test / 255.0\n",
    "print(x_train_normalized[2900][12]) # Output a normalized row"
   ]
  },
  {
   "cell_type": "code",
   "execution_count": 8,
   "id": "fde50323",
   "metadata": {},
   "outputs": [
    {
     "name": "stdout",
     "output_type": "stream",
     "text": [
      "Loaded the plot_curve function.\n"
     ]
    }
   ],
   "source": [
    "#@title Define the plotting function\n",
    "def plot_curve(epochs, hist, list_of_metrics):\n",
    "  \"\"\"Plot a curve of one or more classification metrics vs. epoch.\"\"\"  \n",
    "  # list_of_metrics should be one of the names shown in:\n",
    "  # https://www.tensorflow.org/tutorials/structured_data/imbalanced_data#define_the_model_and_metrics  \n",
    "\n",
    "  plt.figure()\n",
    "  plt.xlabel(\"Epoch\")\n",
    "  plt.ylabel(\"Value\")\n",
    "\n",
    "  for m in list_of_metrics:\n",
    "    x = hist[m]\n",
    "    plt.plot(epochs[1:], x[1:], label=m)\n",
    "\n",
    "  plt.legend()\n",
    "\n",
    "print(\"Loaded the plot_curve function.\")"
   ]
  },
  {
   "cell_type": "code",
   "execution_count": 11,
   "id": "7fbdb739",
   "metadata": {},
   "outputs": [],
   "source": [
    "def create_model(my_learning_rate):\n",
    "  \"\"\"Create and compile a deep neural net.\"\"\"\n",
    "  \n",
    "  # All models in this course are sequential.\n",
    "  model = tf.keras.models.Sequential()\n",
    "\n",
    "  # The features are stored in a two-dimensional 28X28 array. \n",
    "  # Flatten that two-dimensional array into a a one-dimensional \n",
    "  # 784-element array.\n",
    "  model.add(tf.keras.layers.Flatten(input_shape=(28, 28)))\n",
    "\n",
    "  # Define the first hidden layer.   \n",
    "  model.add(tf.keras.layers.Dense(units=32, activation='relu'))\n",
    "  \n",
    "  # Define a dropout regularization layer. \n",
    "  model.add(tf.keras.layers.Dropout(rate=0.2))\n",
    "\n",
    "  # Define the output layer. The units parameter is set to 10 because\n",
    "  # the model must choose among 10 possible output values (representing\n",
    "  # the digits from 0 to 9, inclusive).\n",
    "  #\n",
    "  # Don't change this layer.\n",
    "  model.add(tf.keras.layers.Dense(units=10, activation='softmax'))     \n",
    "                           \n",
    "  # Construct the layers into a model that TensorFlow can execute.  \n",
    "  # Notice that the loss function for multi-class classification\n",
    "  # is different than the loss function for binary classification.  \n",
    "  model.compile(optimizer=tf.keras.optimizers.Adam(lr=my_learning_rate),\n",
    "                loss=\"sparse_categorical_crossentropy\",\n",
    "                metrics=['accuracy'])\n",
    "  \n",
    "  return model    \n",
    "\n",
    "\n",
    "def train_model(model, train_features, train_label, epochs,\n",
    "                batch_size=None, validation_split=0.1):\n",
    "  \"\"\"Train the model by feeding it data.\"\"\"\n",
    "\n",
    "  history = model.fit(x=train_features, y=train_label, batch_size=batch_size,\n",
    "                      epochs=epochs, shuffle=True, \n",
    "                      validation_split=validation_split)\n",
    " \n",
    "  # To track the progression of training, gather a snapshot\n",
    "  # of the model's metrics at each epoch. \n",
    "  epochs = history.epoch\n",
    "  hist = pd.DataFrame(history.history)\n",
    "\n",
    "  return epochs, hist    "
   ]
  },
  {
   "cell_type": "code",
   "execution_count": 12,
   "id": "9f0ad67c",
   "metadata": {},
   "outputs": [
    {
     "name": "stderr",
     "output_type": "stream",
     "text": [
      "/Users/robertj.squires/Documents/anaconda3/lib/python3.8/site-packages/tensorflow/python/keras/optimizer_v2/optimizer_v2.py:374: UserWarning: The `lr` argument is deprecated, use `learning_rate` instead.\n",
      "  warnings.warn(\n"
     ]
    },
    {
     "name": "stdout",
     "output_type": "stream",
     "text": [
      "Epoch 1/50\n",
      "12/12 [==============================] - 1s 23ms/step - loss: 1.6642 - accuracy: 0.4891 - val_loss: 0.9263 - val_accuracy: 0.7867\n",
      "Epoch 2/50\n",
      "12/12 [==============================] - 0s 11ms/step - loss: 0.8746 - accuracy: 0.7366 - val_loss: 0.5316 - val_accuracy: 0.8648\n",
      "Epoch 3/50\n",
      "12/12 [==============================] - 0s 11ms/step - loss: 0.6388 - accuracy: 0.8071 - val_loss: 0.4224 - val_accuracy: 0.8873\n",
      "Epoch 4/50\n",
      "12/12 [==============================] - 0s 12ms/step - loss: 0.5379 - accuracy: 0.8382 - val_loss: 0.3670 - val_accuracy: 0.8997\n",
      "Epoch 5/50\n",
      "12/12 [==============================] - 0s 11ms/step - loss: 0.4765 - accuracy: 0.8592 - val_loss: 0.3343 - val_accuracy: 0.9076\n",
      "Epoch 6/50\n",
      "12/12 [==============================] - 0s 11ms/step - loss: 0.4379 - accuracy: 0.8719 - val_loss: 0.3100 - val_accuracy: 0.9161\n",
      "Epoch 7/50\n",
      "12/12 [==============================] - 0s 12ms/step - loss: 0.4150 - accuracy: 0.8790 - val_loss: 0.2937 - val_accuracy: 0.9206\n",
      "Epoch 8/50\n",
      "12/12 [==============================] - 0s 12ms/step - loss: 0.3922 - accuracy: 0.8871 - val_loss: 0.2785 - val_accuracy: 0.9249\n",
      "Epoch 9/50\n",
      "12/12 [==============================] - 0s 11ms/step - loss: 0.3768 - accuracy: 0.8911 - val_loss: 0.2672 - val_accuracy: 0.9270\n",
      "Epoch 10/50\n",
      "12/12 [==============================] - 0s 11ms/step - loss: 0.3592 - accuracy: 0.8966 - val_loss: 0.2581 - val_accuracy: 0.9295\n",
      "Epoch 11/50\n",
      "12/12 [==============================] - 0s 11ms/step - loss: 0.3484 - accuracy: 0.8991 - val_loss: 0.2485 - val_accuracy: 0.9319\n",
      "Epoch 12/50\n",
      "12/12 [==============================] - 0s 11ms/step - loss: 0.3356 - accuracy: 0.9026 - val_loss: 0.2408 - val_accuracy: 0.9318\n",
      "Epoch 13/50\n",
      "12/12 [==============================] - 0s 11ms/step - loss: 0.3261 - accuracy: 0.9063 - val_loss: 0.2333 - val_accuracy: 0.9349\n",
      "Epoch 14/50\n",
      "12/12 [==============================] - 0s 11ms/step - loss: 0.3163 - accuracy: 0.9084 - val_loss: 0.2291 - val_accuracy: 0.9362\n",
      "Epoch 15/50\n",
      "12/12 [==============================] - 0s 12ms/step - loss: 0.3104 - accuracy: 0.9099 - val_loss: 0.2228 - val_accuracy: 0.9373\n",
      "Epoch 16/50\n",
      "12/12 [==============================] - 0s 13ms/step - loss: 0.3004 - accuracy: 0.9123 - val_loss: 0.2192 - val_accuracy: 0.9383\n",
      "Epoch 17/50\n",
      "12/12 [==============================] - 0s 12ms/step - loss: 0.2942 - accuracy: 0.9159 - val_loss: 0.2148 - val_accuracy: 0.9404\n",
      "Epoch 18/50\n",
      "12/12 [==============================] - 0s 11ms/step - loss: 0.2908 - accuracy: 0.9155 - val_loss: 0.2097 - val_accuracy: 0.9416\n",
      "Epoch 19/50\n",
      "12/12 [==============================] - 0s 12ms/step - loss: 0.2815 - accuracy: 0.9188 - val_loss: 0.2060 - val_accuracy: 0.9431\n",
      "Epoch 20/50\n",
      "12/12 [==============================] - 0s 12ms/step - loss: 0.2791 - accuracy: 0.9175 - val_loss: 0.2025 - val_accuracy: 0.9438\n",
      "Epoch 21/50\n",
      "12/12 [==============================] - 0s 12ms/step - loss: 0.2727 - accuracy: 0.9202 - val_loss: 0.1973 - val_accuracy: 0.9449\n",
      "Epoch 22/50\n",
      "12/12 [==============================] - 0s 12ms/step - loss: 0.2692 - accuracy: 0.9211 - val_loss: 0.1944 - val_accuracy: 0.9456\n",
      "Epoch 23/50\n",
      "12/12 [==============================] - 0s 12ms/step - loss: 0.2658 - accuracy: 0.9220 - val_loss: 0.1933 - val_accuracy: 0.9462\n",
      "Epoch 24/50\n",
      "12/12 [==============================] - 0s 11ms/step - loss: 0.2583 - accuracy: 0.9245 - val_loss: 0.1896 - val_accuracy: 0.9469\n",
      "Epoch 25/50\n",
      "12/12 [==============================] - 0s 11ms/step - loss: 0.2541 - accuracy: 0.9258 - val_loss: 0.1867 - val_accuracy: 0.9488\n",
      "Epoch 26/50\n",
      "12/12 [==============================] - 0s 11ms/step - loss: 0.2510 - accuracy: 0.9264 - val_loss: 0.1844 - val_accuracy: 0.9490\n",
      "Epoch 27/50\n",
      "12/12 [==============================] - 0s 11ms/step - loss: 0.2489 - accuracy: 0.9273 - val_loss: 0.1814 - val_accuracy: 0.9495\n",
      "Epoch 28/50\n",
      "12/12 [==============================] - 0s 11ms/step - loss: 0.2432 - accuracy: 0.9279 - val_loss: 0.1786 - val_accuracy: 0.9499\n",
      "Epoch 29/50\n",
      "12/12 [==============================] - 0s 12ms/step - loss: 0.2375 - accuracy: 0.9292 - val_loss: 0.1776 - val_accuracy: 0.9496\n",
      "Epoch 30/50\n",
      "12/12 [==============================] - 0s 11ms/step - loss: 0.2367 - accuracy: 0.9301 - val_loss: 0.1753 - val_accuracy: 0.9511\n",
      "Epoch 31/50\n",
      "12/12 [==============================] - 0s 11ms/step - loss: 0.2341 - accuracy: 0.9309 - val_loss: 0.1733 - val_accuracy: 0.9514\n",
      "Epoch 32/50\n",
      "12/12 [==============================] - 0s 11ms/step - loss: 0.2273 - accuracy: 0.9331 - val_loss: 0.1705 - val_accuracy: 0.9516\n",
      "Epoch 33/50\n",
      "12/12 [==============================] - 0s 12ms/step - loss: 0.2287 - accuracy: 0.9322 - val_loss: 0.1689 - val_accuracy: 0.9528\n",
      "Epoch 34/50\n",
      "12/12 [==============================] - 0s 11ms/step - loss: 0.2248 - accuracy: 0.9339 - val_loss: 0.1680 - val_accuracy: 0.9526\n",
      "Epoch 35/50\n",
      "12/12 [==============================] - 0s 11ms/step - loss: 0.2248 - accuracy: 0.9334 - val_loss: 0.1666 - val_accuracy: 0.9534\n",
      "Epoch 36/50\n",
      "12/12 [==============================] - 0s 11ms/step - loss: 0.2195 - accuracy: 0.9334 - val_loss: 0.1643 - val_accuracy: 0.9541\n",
      "Epoch 37/50\n",
      "12/12 [==============================] - 0s 11ms/step - loss: 0.2175 - accuracy: 0.9355 - val_loss: 0.1630 - val_accuracy: 0.9551\n",
      "Epoch 38/50\n",
      "12/12 [==============================] - 0s 11ms/step - loss: 0.2161 - accuracy: 0.9348 - val_loss: 0.1612 - val_accuracy: 0.9542\n",
      "Epoch 39/50\n",
      "12/12 [==============================] - 0s 12ms/step - loss: 0.2171 - accuracy: 0.9348 - val_loss: 0.1606 - val_accuracy: 0.9544\n",
      "Epoch 40/50\n",
      "12/12 [==============================] - 0s 12ms/step - loss: 0.2145 - accuracy: 0.9364 - val_loss: 0.1593 - val_accuracy: 0.9558\n",
      "Epoch 41/50\n",
      "12/12 [==============================] - 0s 11ms/step - loss: 0.2110 - accuracy: 0.9370 - val_loss: 0.1588 - val_accuracy: 0.9559\n",
      "Epoch 42/50\n",
      "12/12 [==============================] - 0s 12ms/step - loss: 0.2078 - accuracy: 0.9384 - val_loss: 0.1576 - val_accuracy: 0.9557\n",
      "Epoch 43/50\n",
      "12/12 [==============================] - 0s 12ms/step - loss: 0.2079 - accuracy: 0.9377 - val_loss: 0.1558 - val_accuracy: 0.9561\n",
      "Epoch 44/50\n",
      "12/12 [==============================] - 0s 12ms/step - loss: 0.2036 - accuracy: 0.9378 - val_loss: 0.1542 - val_accuracy: 0.9562\n",
      "Epoch 45/50\n",
      "12/12 [==============================] - 0s 12ms/step - loss: 0.2013 - accuracy: 0.9398 - val_loss: 0.1539 - val_accuracy: 0.9571\n",
      "Epoch 46/50\n",
      "12/12 [==============================] - 0s 12ms/step - loss: 0.1963 - accuracy: 0.9410 - val_loss: 0.1530 - val_accuracy: 0.9557\n",
      "Epoch 47/50\n",
      "12/12 [==============================] - 0s 12ms/step - loss: 0.2000 - accuracy: 0.9399 - val_loss: 0.1523 - val_accuracy: 0.9571\n",
      "Epoch 48/50\n",
      "12/12 [==============================] - 0s 11ms/step - loss: 0.1979 - accuracy: 0.9403 - val_loss: 0.1508 - val_accuracy: 0.9572\n",
      "Epoch 49/50\n",
      "12/12 [==============================] - 0s 12ms/step - loss: 0.1964 - accuracy: 0.9413 - val_loss: 0.1505 - val_accuracy: 0.9579\n",
      "Epoch 50/50\n",
      "12/12 [==============================] - 0s 8ms/step - loss: 0.1949 - accuracy: 0.9410 - val_loss: 0.1502 - val_accuracy: 0.9579\n",
      "\n",
      " Evaluate the new model against the test set:\n",
      "3/3 [==============================] - 0s 4ms/step - loss: 0.1494 - accuracy: 0.9552\n"
     ]
    },
    {
     "data": {
      "text/plain": [
       "[0.1493760049343109, 0.9552000164985657]"
      ]
     },
     "execution_count": 12,
     "metadata": {},
     "output_type": "execute_result"
    },
    {
     "data": {
      "image/png": "[encoded data removed]",
      "text/plain": [
       "<Figure size 432x288 with 1 Axes>"
      ]
     },
     "metadata": {
      "needs_background": "light"
     },
     "output_type": "display_data"
    }
   ],
   "source": [
    "# The following variables are the hyperparameters.\n",
    "learning_rate = 0.003\n",
    "epochs = 50\n",
    "batch_size = 4000\n",
    "validation_split = 0.2\n",
    "\n",
    "# Establish the model's topography.\n",
    "my_model = create_model(learning_rate)\n",
    "\n",
    "# Train the model on the normalized training set.\n",
    "epochs, hist = train_model(my_model, x_train_normalized, y_train, \n",
    "                           epochs, batch_size, validation_split)\n",
    "\n",
    "# Plot a graph of the metric vs. epochs.\n",
    "list_of_metrics_to_plot = ['accuracy']\n",
    "plot_curve(epochs, hist, list_of_metrics_to_plot)\n",
    "\n",
    "# Evaluate against the test set.\n",
    "print(\"\\n Evaluate the new model against the test set:\")\n",
    "my_model.evaluate(x=x_test_normalized, y=y_test, batch_size=batch_size)"
   ]
  },
  {
   "cell_type": "code",
   "execution_count": null,
   "id": "2cbe33e5",
   "metadata": {},
   "outputs": [],
   "source": []
  }
 ],
 "metadata": {
  "kernelspec": {
   "display_name": "Python 3",
   "language": "python",
   "name": "python3"
  },
  "language_info": {
   "codemirror_mode": {
    "name": "ipython",
    "version": 3
   },
   "file_extension": ".py",
   "mimetype": "text/x-python",
   "name": "python",
   "nbconvert_exporter": "python",
   "pygments_lexer": "ipython3",
   "version": "3.8.8"
  }
 },
 "nbformat": 4,
 "nbformat_minor": 5
}
